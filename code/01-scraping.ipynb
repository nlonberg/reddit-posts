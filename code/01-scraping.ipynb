{
 "cells": [
  {
   "cell_type": "code",
   "execution_count": 1,
   "metadata": {},
   "outputs": [],
   "source": [
    "# Import libraries\n",
    "import requests\n",
    "import pandas as pd\n",
    "import time"
   ]
  },
  {
   "cell_type": "markdown",
   "metadata": {},
   "source": [
    "We will be using the PushShift API to scrape reddit posts."
   ]
  },
  {
   "cell_type": "code",
   "execution_count": 3,
   "metadata": {},
   "outputs": [],
   "source": [
    "url = \"https://api.pushshift.io/reddit/search/submission\""
   ]
  },
  {
   "cell_type": "code",
   "execution_count": 5,
   "metadata": {},
   "outputs": [],
   "source": [
    "res = requests.get(url, params)"
   ]
  },
  {
   "cell_type": "markdown",
   "metadata": {},
   "source": [
    "Requests Status Code 200 means our request was successful."
   ]
  },
  {
   "cell_type": "code",
   "execution_count": 6,
   "metadata": {},
   "outputs": [
    {
     "data": {
      "text/plain": [
       "200"
      ]
     },
     "execution_count": 6,
     "metadata": {},
     "output_type": "execute_result"
    }
   ],
   "source": [
    "res.status_code"
   ]
  },
  {
   "cell_type": "markdown",
   "metadata": {},
   "source": [
    "The function 'scrape_posts' gathers 100 posts at a time (abiding by PushShift's limits) from your subreddit of choice, filters out the ones that haven't received enough attention (comments) and adds the post's relevant information to a DataFrame, which when filled to your specified post amount, returns. Filtering out posts that have not received attention is important because PushShift gathers *every* post, even the ones immediately deleted by moderators."
   ]
  },
  {
   "cell_type": "code",
   "execution_count": 23,
   "metadata": {},
   "outputs": [],
   "source": [
    "def scrape_posts(sub, is_consp, post_count,min_attn):\n",
    "    df_list=[]\n",
    "    params = {\n",
    "        'subreddit': sub,\n",
    "        'size': 100,\n",
    "        'before': str(round(time.time()))\n",
    "    }\n",
    "    posts_scraped = 0\n",
    "    while posts_scraped <= post_count:\n",
    "        \n",
    "        res = requests.get(url, params)\n",
    "        \n",
    "        data = res.json()['data']\n",
    "        \n",
    "        df = pd.DataFrame({\"post\":[post['title'] for post in data],\n",
    "                          'time':[post['created_utc'] for post in data],\n",
    "                           'comments':[post['num_comments'] for post in data],\n",
    "                          \"is_conspiracy\":is_consp})\n",
    "\n",
    "        params['before'] = df['time'].min()\n",
    "        \n",
    "        df = df[df['comments']>=min_attn]\n",
    "        \n",
    "        posts_scraped+=df.shape[0]\n",
    "        df_list.append(df)\n",
    "    \n",
    "    df_full = pd.concat(df_list,ignore_index=True)\n",
    "    df_full.drop(columns=['time','comments'],inplace=True)\n",
    "    df_full.drop_duplicates(subset=\"post\",inplace=True,ignore_index=True)\n",
    "    return df_full"
   ]
  },
  {
   "cell_type": "markdown",
   "metadata": {},
   "source": [
    "Let's gather 1500 'r/news' posts that have received a minimum of 10 comments into a Dataframe."
   ]
  },
  {
   "cell_type": "code",
   "execution_count": 26,
   "metadata": {},
   "outputs": [],
   "source": [
    "news_df = scrape_posts('news',0,1500,10)"
   ]
  },
  {
   "cell_type": "code",
   "execution_count": 28,
   "metadata": {},
   "outputs": [
    {
     "data": {
      "text/plain": [
       "(1447, 2)"
      ]
     },
     "execution_count": 28,
     "metadata": {},
     "output_type": "execute_result"
    }
   ],
   "source": [
    "news_df.shape"
   ]
  },
  {
   "cell_type": "markdown",
   "metadata": {},
   "source": [
    "Let's gather 1500 'r/conspiracy' posts that have received a minimum of 10 comments into a Dataframe."
   ]
  },
  {
   "cell_type": "code",
   "execution_count": 30,
   "metadata": {},
   "outputs": [],
   "source": [
    "consp_df = scrape_posts('conspiracy',1,1500,10)"
   ]
  },
  {
   "cell_type": "code",
   "execution_count": 31,
   "metadata": {},
   "outputs": [
    {
     "data": {
      "text/plain": [
       "(1529, 2)"
      ]
     },
     "execution_count": 31,
     "metadata": {},
     "output_type": "execute_result"
    }
   ],
   "source": [
    "consp_df.shape"
   ]
  },
  {
   "cell_type": "markdown",
   "metadata": {},
   "source": [
    "Let's concatenate these dataframes together and export it as a csv."
   ]
  },
  {
   "cell_type": "code",
   "execution_count": 32,
   "metadata": {},
   "outputs": [
    {
     "data": {
      "text/plain": [
       "(2976, 2)"
      ]
     },
     "execution_count": 32,
     "metadata": {},
     "output_type": "execute_result"
    }
   ],
   "source": [
    "df = pd.concat([news_df,consp_df],ignore_index=True)\n",
    "df.shape"
   ]
  },
  {
   "cell_type": "code",
   "execution_count": 33,
   "metadata": {},
   "outputs": [],
   "source": [
    "df.to_csv(\"../data/raw.csv\",index=False)"
   ]
  }
 ],
 "metadata": {
  "kernelspec": {
   "display_name": "Python 3",
   "language": "python",
   "name": "python3"
  },
  "language_info": {
   "codemirror_mode": {
    "name": "ipython",
    "version": 3
   },
   "file_extension": ".py",
   "mimetype": "text/x-python",
   "name": "python",
   "nbconvert_exporter": "python",
   "pygments_lexer": "ipython3",
   "version": "3.7.7"
  }
 },
 "nbformat": 4,
 "nbformat_minor": 4
}
