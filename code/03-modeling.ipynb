{
 "cells": [
  {
   "cell_type": "code",
   "execution_count": 66,
   "metadata": {},
   "outputs": [],
   "source": [
    "#import libraries (lots of them)\n",
    "import pandas as pd\n",
    "import numpy as np\n",
    "import matplotlib.pyplot as plt\n",
    "import seaborn as sns\n",
    "\n",
    "from sklearn.model_selection import train_test_split, GridSearchCV, cross_val_score\n",
    "from sklearn.metrics import recall_score\n",
    "from sklearn.preprocessing import StandardScaler\n",
    "from sklearn.linear_model import LogisticRegression\n",
    "from sklearn.tree import DecisionTreeClassifier\n",
    "from sklearn.ensemble import RandomForestClassifier\n",
    "from sklearn.pipeline import Pipeline\n",
    "from sklearn.feature_extraction.text import CountVectorizer, TfidfTransformer, TfidfVectorizer\n",
    "from sklearn.naive_bayes import MultinomialNB, GaussianNB\n",
    "from sklearn.neighbors import KNeighborsClassifier\n",
    "from sklearn.base import TransformerMixin\n",
    "from sklearn.metrics import plot_confusion_matrix"
   ]
  },
  {
   "cell_type": "markdown",
   "metadata": {},
   "source": [
    "DenseTransformer will help us convert a sparse matrix into a dense matrix and make some of our pipelines work."
   ]
  },
  {
   "cell_type": "code",
   "execution_count": 2,
   "metadata": {},
   "outputs": [],
   "source": [
    "# Taken from Noah C.'s Week 5 Lab Review\n",
    "# originally adaped from:\n",
    "# https://stackoverflow.com/questions/28384680/scikit-learns-pipeline-a-sparse-matrix-was-passed-but-dense-data-is-required\n",
    "class DenseTransformer(TransformerMixin):\n",
    "    def fit(self, X, y=None, **fit_params):\n",
    "        return self\n",
    "\n",
    "    def transform(self, X, y=None, **fit_params):\n",
    "        return X.toarray()"
   ]
  },
  {
   "cell_type": "code",
   "execution_count": 67,
   "metadata": {},
   "outputs": [],
   "source": [
    "# Load in data\n",
    "df = pd.read_csv('../data/raw.csv')\n",
    "X = df['post']\n",
    "y = df['is_conspiracy']"
   ]
  },
  {
   "cell_type": "markdown",
   "metadata": {},
   "source": [
    "Models we will try:\n",
    "1. LogisticRegression\n",
    "2. GaussianNaiveBayes\n",
    "3. MultinomialNaiveBayes"
   ]
  },
  {
   "cell_type": "markdown",
   "metadata": {},
   "source": [
    "The class 'GridSearchContainer' will allow us to remember grid-searched models and help with some code reusability."
   ]
  },
  {
   "cell_type": "code",
   "execution_count": 69,
   "metadata": {},
   "outputs": [],
   "source": [
    "# Code adapted from Patrick Wales-Dinan's demonstration on saving GridSearches\n",
    "\n",
    "class GridSearchContainer:\n",
    "    def __init__(self, X, y):\n",
    "        self.X_train, self.X_test, self.y_train, self.y_test = train_test_split(X, y,\n",
    "                                                                                random_state=42,\n",
    "                                                                                stratify = y)\n",
    "        self.model_params = {}\n",
    "        self.best_models = []\n",
    "        self.model_df = pd.DataFrame\n",
    "        self.count = 0\n",
    "        \n",
    "    def search(self, estimator, params, mod_name='model', evaluator='accuracy'):\n",
    "        \n",
    "            gs = GridSearchCV(estimator,\n",
    "                  param_grid = params,\n",
    "                  cv = 5,\n",
    "                  scoring = evaluator)\n",
    "    \n",
    "            gs.fit(self.X_train, self.y_train)\n",
    "\n",
    "            print(f\"Train {evaluator}: {gs.score(self.X_train, self.y_train)}\")\n",
    "            print(f\"Test {evaluator}: {gs.score(self.X_test, self.y_test)}\")\n",
    "\n",
    "            gs.best_params_[evaluator] = gs.best_score_\n",
    "                \n",
    "            self.model_params[f'{mod_name}_{self.count}'] = gs.best_params_\n",
    "\n",
    "            self.model_df = pd.DataFrame.from_dict(self.model_params, orient='index')\n",
    "            self.model_df.sort_values(by=evaluator, ascending=False, inplace=True)\n",
    "\n",
    "            self.best_models.append((gs.best_estimator_, gs.best_score_))\n",
    "            \n",
    "            self.count+=1"
   ]
  },
  {
   "cell_type": "code",
   "execution_count": 68,
   "metadata": {},
   "outputs": [],
   "source": [
    "#Instantiate first GridSearchContainer\n",
    "gsc = GridSearchContainer(X, y)"
   ]
  },
  {
   "cell_type": "markdown",
   "metadata": {},
   "source": [
    "Let's make a bunch of pipelines! The TfidfTransformer will allow us to swap between CountVectorization and TfidfVectorization in the same pipeline."
   ]
  },
  {
   "cell_type": "code",
   "execution_count": 7,
   "metadata": {},
   "outputs": [],
   "source": [
    "pipe_lr = Pipeline([('cv', CountVectorizer()),\n",
    "                    ('tf', TfidfTransformer()),\n",
    "                    ('lr', LogisticRegression())\n",
    "                   ])\n",
    "\n",
    "pipe_gnb = Pipeline([('cv', CountVectorizer()),\n",
    "                     ('tf', TfidfTransformer()),\n",
    "                     (\"_\", DenseTransformer()),\n",
    "                     ('gnb', GaussianNB())\n",
    "                   ])\n",
    "\n",
    "pipe_mnb = Pipeline([('cv', CountVectorizer()),\n",
    "                     ('mnb', MultinomialNB())\n",
    "                   ])"
   ]
  },
  {
   "cell_type": "markdown",
   "metadata": {},
   "source": [
    "Let's start with an attempt to make our best Logistic Regression. It appears that 0.86 was our highest accuracy score for a model with default hyperparameters and tfidf turned on."
   ]
  },
  {
   "cell_type": "code",
   "execution_count": 8,
   "metadata": {},
   "outputs": [
    {
     "name": "stdout",
     "output_type": "stream",
     "text": [
      "Train accuracy: 0.9525089605734767\n",
      "Test accuracy: 0.8588709677419355\n"
     ]
    },
    {
     "data": {
      "text/html": [
       "<div>\n",
       "<style scoped>\n",
       "    .dataframe tbody tr th:only-of-type {\n",
       "        vertical-align: middle;\n",
       "    }\n",
       "\n",
       "    .dataframe tbody tr th {\n",
       "        vertical-align: top;\n",
       "    }\n",
       "\n",
       "    .dataframe thead th {\n",
       "        text-align: right;\n",
       "    }\n",
       "</style>\n",
       "<table border=\"1\" class=\"dataframe\">\n",
       "  <thead>\n",
       "    <tr style=\"text-align: right;\">\n",
       "      <th></th>\n",
       "      <th>cv__lowercase</th>\n",
       "      <th>cv__max_features</th>\n",
       "      <th>cv__min_df</th>\n",
       "      <th>cv__ngram_range</th>\n",
       "      <th>cv__stop_words</th>\n",
       "      <th>tf__use_idf</th>\n",
       "      <th>accuracy</th>\n",
       "    </tr>\n",
       "  </thead>\n",
       "  <tbody>\n",
       "    <tr>\n",
       "      <th>logreg_0</th>\n",
       "      <td>True</td>\n",
       "      <td>None</td>\n",
       "      <td>1</td>\n",
       "      <td>(1, 1)</td>\n",
       "      <td>None</td>\n",
       "      <td>True</td>\n",
       "      <td>0.868288</td>\n",
       "    </tr>\n",
       "  </tbody>\n",
       "</table>\n",
       "</div>"
      ],
      "text/plain": [
       "          cv__lowercase cv__max_features  cv__min_df cv__ngram_range  \\\n",
       "logreg_0           True             None           1          (1, 1)   \n",
       "\n",
       "         cv__stop_words  tf__use_idf  accuracy  \n",
       "logreg_0           None         True  0.868288  "
      ]
     },
     "execution_count": 8,
     "metadata": {},
     "output_type": "execute_result"
    }
   ],
   "source": [
    "params_lr = {\n",
    "    'cv__lowercase': [True, False],\n",
    "    'cv__stop_words': [None, 'english'],\n",
    "    'cv__max_features': [None, 5000, 7000],\n",
    "    'cv__ngram_range': [(1,1),(1,2)],\n",
    "    'cv__min_df': [1,3,5,7],\n",
    "    'tf__use_idf': [True, False]\n",
    "}\n",
    "\n",
    "gsc.search(pipe_lr, params_lr, 'logreg')\n",
    "gsc.model_df.head()"
   ]
  },
  {
   "cell_type": "markdown",
   "metadata": {},
   "source": [
    "Next we'll look at Gaussian Naive Bayes. The best GNB performs 4% worse than the best Logistic Regression. The model also has very high variance (78% accuracy on on testing data)."
   ]
  },
  {
   "cell_type": "code",
   "execution_count": 9,
   "metadata": {},
   "outputs": [
    {
     "name": "stdout",
     "output_type": "stream",
     "text": [
      "Train accuracy: 0.9126344086021505\n",
      "Test accuracy: 0.7849462365591398\n"
     ]
    },
    {
     "data": {
      "text/html": [
       "<div>\n",
       "<style scoped>\n",
       "    .dataframe tbody tr th:only-of-type {\n",
       "        vertical-align: middle;\n",
       "    }\n",
       "\n",
       "    .dataframe tbody tr th {\n",
       "        vertical-align: top;\n",
       "    }\n",
       "\n",
       "    .dataframe thead th {\n",
       "        text-align: right;\n",
       "    }\n",
       "</style>\n",
       "<table border=\"1\" class=\"dataframe\">\n",
       "  <thead>\n",
       "    <tr style=\"text-align: right;\">\n",
       "      <th></th>\n",
       "      <th>cv__lowercase</th>\n",
       "      <th>cv__max_features</th>\n",
       "      <th>cv__min_df</th>\n",
       "      <th>cv__ngram_range</th>\n",
       "      <th>cv__stop_words</th>\n",
       "      <th>tf__use_idf</th>\n",
       "      <th>accuracy</th>\n",
       "    </tr>\n",
       "  </thead>\n",
       "  <tbody>\n",
       "    <tr>\n",
       "      <th>logreg_0</th>\n",
       "      <td>True</td>\n",
       "      <td>None</td>\n",
       "      <td>1</td>\n",
       "      <td>(1, 1)</td>\n",
       "      <td>None</td>\n",
       "      <td>True</td>\n",
       "      <td>0.868288</td>\n",
       "    </tr>\n",
       "    <tr>\n",
       "      <th>gnb_1</th>\n",
       "      <td>True</td>\n",
       "      <td>None</td>\n",
       "      <td>5</td>\n",
       "      <td>(1, 1)</td>\n",
       "      <td>None</td>\n",
       "      <td>True</td>\n",
       "      <td>0.821669</td>\n",
       "    </tr>\n",
       "  </tbody>\n",
       "</table>\n",
       "</div>"
      ],
      "text/plain": [
       "          cv__lowercase cv__max_features  cv__min_df cv__ngram_range  \\\n",
       "logreg_0           True             None           1          (1, 1)   \n",
       "gnb_1              True             None           5          (1, 1)   \n",
       "\n",
       "         cv__stop_words  tf__use_idf  accuracy  \n",
       "logreg_0           None         True  0.868288  \n",
       "gnb_1              None         True  0.821669  "
      ]
     },
     "execution_count": 9,
     "metadata": {},
     "output_type": "execute_result"
    }
   ],
   "source": [
    "params_gnb = {\n",
    "    'cv__lowercase': [True, False],\n",
    "    'cv__stop_words': [None, 'english'],\n",
    "    'cv__max_features': [None, 5000, 7000],\n",
    "    'cv__ngram_range': [(1,1),(1,2)],\n",
    "    'cv__min_df': [1,3,5,7],\n",
    "    'tf__use_idf': [True]\n",
    "}\n",
    "\n",
    "gsc.search(pipe_gnb, params_gnb, 'gnb')\n",
    "gsc.model_df.head()"
   ]
  },
  {
   "cell_type": "markdown",
   "metadata": {},
   "source": [
    "Finally we'll look at Multinomial Naive Bayes. This model had the best accuracy and was the least overfit.  Very promising."
   ]
  },
  {
   "cell_type": "code",
   "execution_count": 10,
   "metadata": {},
   "outputs": [
    {
     "name": "stdout",
     "output_type": "stream",
     "text": [
      "Train accuracy: 0.9628136200716846\n",
      "Test accuracy: 0.8736559139784946\n"
     ]
    },
    {
     "data": {
      "text/html": [
       "<div>\n",
       "<style scoped>\n",
       "    .dataframe tbody tr th:only-of-type {\n",
       "        vertical-align: middle;\n",
       "    }\n",
       "\n",
       "    .dataframe tbody tr th {\n",
       "        vertical-align: top;\n",
       "    }\n",
       "\n",
       "    .dataframe thead th {\n",
       "        text-align: right;\n",
       "    }\n",
       "</style>\n",
       "<table border=\"1\" class=\"dataframe\">\n",
       "  <thead>\n",
       "    <tr style=\"text-align: right;\">\n",
       "      <th></th>\n",
       "      <th>cv__lowercase</th>\n",
       "      <th>cv__max_features</th>\n",
       "      <th>cv__min_df</th>\n",
       "      <th>cv__ngram_range</th>\n",
       "      <th>cv__stop_words</th>\n",
       "      <th>tf__use_idf</th>\n",
       "      <th>accuracy</th>\n",
       "      <th>mnb__alpha</th>\n",
       "    </tr>\n",
       "  </thead>\n",
       "  <tbody>\n",
       "    <tr>\n",
       "      <th>mnb_2</th>\n",
       "      <td>True</td>\n",
       "      <td>None</td>\n",
       "      <td>1</td>\n",
       "      <td>(1, 1)</td>\n",
       "      <td>None</td>\n",
       "      <td>NaN</td>\n",
       "      <td>0.879927</td>\n",
       "      <td>1.0</td>\n",
       "    </tr>\n",
       "    <tr>\n",
       "      <th>logreg_0</th>\n",
       "      <td>True</td>\n",
       "      <td>None</td>\n",
       "      <td>1</td>\n",
       "      <td>(1, 1)</td>\n",
       "      <td>None</td>\n",
       "      <td>True</td>\n",
       "      <td>0.868288</td>\n",
       "      <td>NaN</td>\n",
       "    </tr>\n",
       "    <tr>\n",
       "      <th>gnb_1</th>\n",
       "      <td>True</td>\n",
       "      <td>None</td>\n",
       "      <td>5</td>\n",
       "      <td>(1, 1)</td>\n",
       "      <td>None</td>\n",
       "      <td>True</td>\n",
       "      <td>0.821669</td>\n",
       "      <td>NaN</td>\n",
       "    </tr>\n",
       "  </tbody>\n",
       "</table>\n",
       "</div>"
      ],
      "text/plain": [
       "          cv__lowercase cv__max_features  cv__min_df cv__ngram_range  \\\n",
       "mnb_2              True             None           1          (1, 1)   \n",
       "logreg_0           True             None           1          (1, 1)   \n",
       "gnb_1              True             None           5          (1, 1)   \n",
       "\n",
       "         cv__stop_words tf__use_idf  accuracy  mnb__alpha  \n",
       "mnb_2              None         NaN  0.879927         1.0  \n",
       "logreg_0           None        True  0.868288         NaN  \n",
       "gnb_1              None        True  0.821669         NaN  "
      ]
     },
     "execution_count": 10,
     "metadata": {},
     "output_type": "execute_result"
    }
   ],
   "source": [
    "params_mnb = {\n",
    "    'cv__lowercase': [True, False],\n",
    "    'cv__stop_words': [None, 'english'],\n",
    "    'cv__max_features': [None, 5000, 7000],\n",
    "    'cv__ngram_range': [(1,1),(1,2)],\n",
    "    'cv__min_df': [1,3,5,7],\n",
    "    'mnb__alpha': [0.5,1,2]\n",
    "}\n",
    "\n",
    "gsc.search(pipe_mnb, params_mnb, 'mnb')\n",
    "gsc.model_df.head()"
   ]
  },
  {
   "cell_type": "markdown",
   "metadata": {},
   "source": [
    "Ok now let's evaluate these models on their recall (sensitivity).  The ranking comes in the same order except that MNB has by far the best sensitivity.  We will take MNB and Logistic Regression into the next round of hyperparameter tuning."
   ]
  },
  {
   "cell_type": "code",
   "execution_count": 11,
   "metadata": {},
   "outputs": [
    {
     "name": "stdout",
     "output_type": "stream",
     "text": [
      "Train recall: 0.990409764603313\n",
      "Test recall: 0.8638743455497382\n",
      "\n",
      "Train recall: 0.974716652136007\n",
      "Test recall: 0.8219895287958116\n",
      "\n",
      "Train recall: 0.987794245858762\n",
      "Test recall: 0.8743455497382199\n"
     ]
    },
    {
     "data": {
      "text/html": [
       "<div>\n",
       "<style scoped>\n",
       "    .dataframe tbody tr th:only-of-type {\n",
       "        vertical-align: middle;\n",
       "    }\n",
       "\n",
       "    .dataframe tbody tr th {\n",
       "        vertical-align: top;\n",
       "    }\n",
       "\n",
       "    .dataframe thead th {\n",
       "        text-align: right;\n",
       "    }\n",
       "</style>\n",
       "<table border=\"1\" class=\"dataframe\">\n",
       "  <thead>\n",
       "    <tr style=\"text-align: right;\">\n",
       "      <th></th>\n",
       "      <th>cv__lowercase</th>\n",
       "      <th>cv__max_features</th>\n",
       "      <th>cv__min_df</th>\n",
       "      <th>cv__ngram_range</th>\n",
       "      <th>cv__stop_words</th>\n",
       "      <th>tf__use_idf</th>\n",
       "      <th>accuracy</th>\n",
       "      <th>mnb__alpha</th>\n",
       "      <th>recall</th>\n",
       "    </tr>\n",
       "  </thead>\n",
       "  <tbody>\n",
       "    <tr>\n",
       "      <th>mnb_sn_5</th>\n",
       "      <td>True</td>\n",
       "      <td>None</td>\n",
       "      <td>1</td>\n",
       "      <td>(1, 2)</td>\n",
       "      <td>None</td>\n",
       "      <td>NaN</td>\n",
       "      <td>NaN</td>\n",
       "      <td>2.0</td>\n",
       "      <td>0.924177</td>\n",
       "    </tr>\n",
       "    <tr>\n",
       "      <th>lr_sn_3</th>\n",
       "      <td>False</td>\n",
       "      <td>None</td>\n",
       "      <td>1</td>\n",
       "      <td>(1, 2)</td>\n",
       "      <td>english</td>\n",
       "      <td>True</td>\n",
       "      <td>NaN</td>\n",
       "      <td>NaN</td>\n",
       "      <td>0.877968</td>\n",
       "    </tr>\n",
       "    <tr>\n",
       "      <th>gnb_sn_4</th>\n",
       "      <td>True</td>\n",
       "      <td>None</td>\n",
       "      <td>3</td>\n",
       "      <td>(1, 2)</td>\n",
       "      <td>english</td>\n",
       "      <td>True</td>\n",
       "      <td>NaN</td>\n",
       "      <td>NaN</td>\n",
       "      <td>0.853533</td>\n",
       "    </tr>\n",
       "    <tr>\n",
       "      <th>logreg_0</th>\n",
       "      <td>True</td>\n",
       "      <td>None</td>\n",
       "      <td>1</td>\n",
       "      <td>(1, 1)</td>\n",
       "      <td>None</td>\n",
       "      <td>True</td>\n",
       "      <td>0.868288</td>\n",
       "      <td>NaN</td>\n",
       "      <td>NaN</td>\n",
       "    </tr>\n",
       "    <tr>\n",
       "      <th>gnb_1</th>\n",
       "      <td>True</td>\n",
       "      <td>None</td>\n",
       "      <td>5</td>\n",
       "      <td>(1, 1)</td>\n",
       "      <td>None</td>\n",
       "      <td>True</td>\n",
       "      <td>0.821669</td>\n",
       "      <td>NaN</td>\n",
       "      <td>NaN</td>\n",
       "    </tr>\n",
       "    <tr>\n",
       "      <th>mnb_2</th>\n",
       "      <td>True</td>\n",
       "      <td>None</td>\n",
       "      <td>1</td>\n",
       "      <td>(1, 1)</td>\n",
       "      <td>None</td>\n",
       "      <td>NaN</td>\n",
       "      <td>0.879927</td>\n",
       "      <td>1.0</td>\n",
       "      <td>NaN</td>\n",
       "    </tr>\n",
       "  </tbody>\n",
       "</table>\n",
       "</div>"
      ],
      "text/plain": [
       "          cv__lowercase cv__max_features  cv__min_df cv__ngram_range  \\\n",
       "mnb_sn_5           True             None           1          (1, 2)   \n",
       "lr_sn_3           False             None           1          (1, 2)   \n",
       "gnb_sn_4           True             None           3          (1, 2)   \n",
       "logreg_0           True             None           1          (1, 1)   \n",
       "gnb_1              True             None           5          (1, 1)   \n",
       "mnb_2              True             None           1          (1, 1)   \n",
       "\n",
       "         cv__stop_words tf__use_idf  accuracy  mnb__alpha    recall  \n",
       "mnb_sn_5           None         NaN       NaN         2.0  0.924177  \n",
       "lr_sn_3         english        True       NaN         NaN  0.877968  \n",
       "gnb_sn_4        english        True       NaN         NaN  0.853533  \n",
       "logreg_0           None        True  0.868288         NaN       NaN  \n",
       "gnb_1              None        True  0.821669         NaN       NaN  \n",
       "mnb_2              None         NaN  0.879927         1.0       NaN  "
      ]
     },
     "execution_count": 11,
     "metadata": {},
     "output_type": "execute_result"
    }
   ],
   "source": [
    "gsc.search(pipe_lr, params_lr, 'lr_sn', 'recall')\n",
    "print()\n",
    "gsc.search(pipe_gnb, params_gnb, 'gnb_sn', 'recall')\n",
    "print()\n",
    "gsc.search(pipe_mnb, params_mnb, 'mnb_sn', 'recall')\n",
    "gsc.model_df.head(6)"
   ]
  },
  {
   "cell_type": "markdown",
   "metadata": {},
   "source": [
    "And then there were two: Multinomial Naive Bayes and Logistic Regression.  Let's instantiate a fresh GridSearchContainer and start looking for ideal parameters that balance good accuracy and precision."
   ]
  },
  {
   "cell_type": "code",
   "execution_count": 25,
   "metadata": {},
   "outputs": [],
   "source": [
    "best_log_regs = GridSearchContainer(X, y)"
   ]
  },
  {
   "cell_type": "markdown",
   "metadata": {},
   "source": [
    "We are trying to identify where tradeoffs between accuracy and recall exist in the parameters.  To do this we will score the recall of the model with the best accuracy and score the accuracy of the model with the best recall. Let's start with Logistic Regression."
   ]
  },
  {
   "cell_type": "code",
   "execution_count": 26,
   "metadata": {},
   "outputs": [
    {
     "name": "stdout",
     "output_type": "stream",
     "text": [
      "Train accuracy: 0.9525089605734767\n",
      "Test accuracy: 0.8588709677419355\n",
      "Train recall: 0.994768962510898\n",
      "Test recall: 0.8664921465968587\n"
     ]
    },
    {
     "data": {
      "text/html": [
       "<div>\n",
       "<style scoped>\n",
       "    .dataframe tbody tr th:only-of-type {\n",
       "        vertical-align: middle;\n",
       "    }\n",
       "\n",
       "    .dataframe tbody tr th {\n",
       "        vertical-align: top;\n",
       "    }\n",
       "\n",
       "    .dataframe thead th {\n",
       "        text-align: right;\n",
       "    }\n",
       "</style>\n",
       "<table border=\"1\" class=\"dataframe\">\n",
       "  <thead>\n",
       "    <tr style=\"text-align: right;\">\n",
       "      <th></th>\n",
       "      <th>cv__lowercase</th>\n",
       "      <th>cv__max_features</th>\n",
       "      <th>cv__min_df</th>\n",
       "      <th>cv__ngram_range</th>\n",
       "      <th>cv__stop_words</th>\n",
       "      <th>tf__use_idf</th>\n",
       "      <th>accuracy</th>\n",
       "      <th>recall</th>\n",
       "    </tr>\n",
       "  </thead>\n",
       "  <tbody>\n",
       "    <tr>\n",
       "      <th>best_rec_1</th>\n",
       "      <td>False</td>\n",
       "      <td>None</td>\n",
       "      <td>1</td>\n",
       "      <td>(1, 3)</td>\n",
       "      <td>english</td>\n",
       "      <td>True</td>\n",
       "      <td>NaN</td>\n",
       "      <td>0.878838</td>\n",
       "    </tr>\n",
       "    <tr>\n",
       "      <th>best_acc_0</th>\n",
       "      <td>True</td>\n",
       "      <td>None</td>\n",
       "      <td>1</td>\n",
       "      <td>(1, 1)</td>\n",
       "      <td>None</td>\n",
       "      <td>True</td>\n",
       "      <td>0.868288</td>\n",
       "      <td>NaN</td>\n",
       "    </tr>\n",
       "  </tbody>\n",
       "</table>\n",
       "</div>"
      ],
      "text/plain": [
       "            cv__lowercase cv__max_features  cv__min_df cv__ngram_range  \\\n",
       "best_rec_1          False             None           1          (1, 3)   \n",
       "best_acc_0           True             None           1          (1, 1)   \n",
       "\n",
       "           cv__stop_words  tf__use_idf  accuracy    recall  \n",
       "best_rec_1        english         True       NaN  0.878838  \n",
       "best_acc_0           None         True  0.868288       NaN  "
      ]
     },
     "execution_count": 26,
     "metadata": {},
     "output_type": "execute_result"
    }
   ],
   "source": [
    "params_lr = {\n",
    "    'cv__lowercase': [True, False],\n",
    "    'cv__stop_words': [None, 'english'],\n",
    "    'cv__max_features': [None],\n",
    "    'cv__ngram_range': [(1,1),(1,2),(1,3)],\n",
    "    'cv__min_df': [1],\n",
    "    'tf__use_idf': [True]\n",
    "}\n",
    "\n",
    "best_log_regs.search(pipe_lr, params_lr, \"best_acc\")\n",
    "best_log_regs.search(pipe_lr, params_lr, \"best_rec\",evaluator='recall')\n",
    "best_log_regs.model_df.head()"
   ]
  },
  {
   "cell_type": "markdown",
   "metadata": {},
   "source": [
    "It appears that increasing the n-gram range of the Count Vectorizer increases recall marginally and decreases accuracy marginally.  The use of lowercase and stopwords also have an effect, but no score is jumping above the MNB, so we will discard Logistic Regression and look to tune MNB as best we can."
   ]
  },
  {
   "cell_type": "code",
   "execution_count": 27,
   "metadata": {},
   "outputs": [
    {
     "name": "stdout",
     "output_type": "stream",
     "text": [
      "Train recall: 0.951176983435048\n",
      "Test recall: 0.8324607329842932\n"
     ]
    }
   ],
   "source": [
    "params_best_accuracy = {\n",
    "    'cv__lowercase': [True],\n",
    "    'cv__stop_words': [None],\n",
    "    'cv__max_features': [None],\n",
    "    'cv__ngram_range': [(1,1)],\n",
    "    'cv__min_df': [1],\n",
    "    'tf__use_idf': [True]\n",
    "}\n",
    "\n",
    "params_best_recall = {\n",
    "    'cv__lowercase': [False],\n",
    "    'cv__stop_words': ['english'],\n",
    "    'cv__max_features': [None],\n",
    "    'cv__ngram_range': [(1,3)],\n",
    "    'cv__min_df': [1],\n",
    "    'tf__use_idf': [True]\n",
    "}\n",
    "\n",
    "best_log_regs.search(pipe_lr, params_best_accuracy, \"best_acc_recall\", evaluator='recall')"
   ]
  },
  {
   "cell_type": "code",
   "execution_count": 28,
   "metadata": {},
   "outputs": [
    {
     "name": "stdout",
     "output_type": "stream",
     "text": [
      "Train accuracy: 0.9946236559139785\n",
      "Test accuracy: 0.8548387096774194\n"
     ]
    }
   ],
   "source": [
    "best_log_regs.search(pipe_lr, params_best_recall, \"best_rec_accuracy\", evaluator='accuracy')"
   ]
  },
  {
   "cell_type": "code",
   "execution_count": 29,
   "metadata": {},
   "outputs": [
    {
     "data": {
      "text/html": [
       "<div>\n",
       "<style scoped>\n",
       "    .dataframe tbody tr th:only-of-type {\n",
       "        vertical-align: middle;\n",
       "    }\n",
       "\n",
       "    .dataframe tbody tr th {\n",
       "        vertical-align: top;\n",
       "    }\n",
       "\n",
       "    .dataframe thead th {\n",
       "        text-align: right;\n",
       "    }\n",
       "</style>\n",
       "<table border=\"1\" class=\"dataframe\">\n",
       "  <thead>\n",
       "    <tr style=\"text-align: right;\">\n",
       "      <th></th>\n",
       "      <th>cv__lowercase</th>\n",
       "      <th>cv__max_features</th>\n",
       "      <th>cv__min_df</th>\n",
       "      <th>cv__ngram_range</th>\n",
       "      <th>cv__stop_words</th>\n",
       "      <th>tf__use_idf</th>\n",
       "      <th>accuracy</th>\n",
       "      <th>recall</th>\n",
       "    </tr>\n",
       "  </thead>\n",
       "  <tbody>\n",
       "    <tr>\n",
       "      <th>best_acc_0</th>\n",
       "      <td>True</td>\n",
       "      <td>None</td>\n",
       "      <td>1</td>\n",
       "      <td>(1, 1)</td>\n",
       "      <td>None</td>\n",
       "      <td>True</td>\n",
       "      <td>0.868288</td>\n",
       "      <td>NaN</td>\n",
       "    </tr>\n",
       "    <tr>\n",
       "      <th>best_rec_accuracy_3</th>\n",
       "      <td>False</td>\n",
       "      <td>None</td>\n",
       "      <td>1</td>\n",
       "      <td>(1, 3)</td>\n",
       "      <td>english</td>\n",
       "      <td>True</td>\n",
       "      <td>0.855735</td>\n",
       "      <td>NaN</td>\n",
       "    </tr>\n",
       "    <tr>\n",
       "      <th>best_rec_1</th>\n",
       "      <td>False</td>\n",
       "      <td>None</td>\n",
       "      <td>1</td>\n",
       "      <td>(1, 3)</td>\n",
       "      <td>english</td>\n",
       "      <td>True</td>\n",
       "      <td>NaN</td>\n",
       "      <td>0.878838</td>\n",
       "    </tr>\n",
       "    <tr>\n",
       "      <th>best_acc_recall_2</th>\n",
       "      <td>True</td>\n",
       "      <td>None</td>\n",
       "      <td>1</td>\n",
       "      <td>(1, 1)</td>\n",
       "      <td>None</td>\n",
       "      <td>True</td>\n",
       "      <td>NaN</td>\n",
       "      <td>0.848346</td>\n",
       "    </tr>\n",
       "  </tbody>\n",
       "</table>\n",
       "</div>"
      ],
      "text/plain": [
       "                     cv__lowercase cv__max_features  cv__min_df  \\\n",
       "best_acc_0                    True             None           1   \n",
       "best_rec_accuracy_3          False             None           1   \n",
       "best_rec_1                   False             None           1   \n",
       "best_acc_recall_2             True             None           1   \n",
       "\n",
       "                    cv__ngram_range cv__stop_words  tf__use_idf  accuracy  \\\n",
       "best_acc_0                   (1, 1)           None         True  0.868288   \n",
       "best_rec_accuracy_3          (1, 3)        english         True  0.855735   \n",
       "best_rec_1                   (1, 3)        english         True       NaN   \n",
       "best_acc_recall_2            (1, 1)           None         True       NaN   \n",
       "\n",
       "                       recall  \n",
       "best_acc_0                NaN  \n",
       "best_rec_accuracy_3       NaN  \n",
       "best_rec_1           0.878838  \n",
       "best_acc_recall_2    0.848346  "
      ]
     },
     "execution_count": 29,
     "metadata": {},
     "output_type": "execute_result"
    }
   ],
   "source": [
    "best_log_regs.model_df.head()"
   ]
  },
  {
   "cell_type": "code",
   "execution_count": 41,
   "metadata": {},
   "outputs": [],
   "source": [
    "best_mnbs = GridSearchContainer(X, y)"
   ]
  },
  {
   "cell_type": "code",
   "execution_count": 42,
   "metadata": {},
   "outputs": [
    {
     "name": "stdout",
     "output_type": "stream",
     "text": [
      "Train accuracy: 0.9628136200716846\n",
      "Test accuracy: 0.8736559139784946\n",
      "Train recall: 0.99128160418483\n",
      "Test recall: 0.8900523560209425\n"
     ]
    },
    {
     "data": {
      "text/html": [
       "<div>\n",
       "<style scoped>\n",
       "    .dataframe tbody tr th:only-of-type {\n",
       "        vertical-align: middle;\n",
       "    }\n",
       "\n",
       "    .dataframe tbody tr th {\n",
       "        vertical-align: top;\n",
       "    }\n",
       "\n",
       "    .dataframe thead th {\n",
       "        text-align: right;\n",
       "    }\n",
       "</style>\n",
       "<table border=\"1\" class=\"dataframe\">\n",
       "  <thead>\n",
       "    <tr style=\"text-align: right;\">\n",
       "      <th></th>\n",
       "      <th>cv__lowercase</th>\n",
       "      <th>cv__max_features</th>\n",
       "      <th>cv__min_df</th>\n",
       "      <th>cv__ngram_range</th>\n",
       "      <th>cv__stop_words</th>\n",
       "      <th>mnb__alpha</th>\n",
       "      <th>accuracy</th>\n",
       "      <th>recall</th>\n",
       "    </tr>\n",
       "  </thead>\n",
       "  <tbody>\n",
       "    <tr>\n",
       "      <th>best_rec_1</th>\n",
       "      <td>True</td>\n",
       "      <td>None</td>\n",
       "      <td>1</td>\n",
       "      <td>(1, 3)</td>\n",
       "      <td>None</td>\n",
       "      <td>3</td>\n",
       "      <td>NaN</td>\n",
       "      <td>0.933773</td>\n",
       "    </tr>\n",
       "    <tr>\n",
       "      <th>best_acc_0</th>\n",
       "      <td>True</td>\n",
       "      <td>None</td>\n",
       "      <td>1</td>\n",
       "      <td>(1, 1)</td>\n",
       "      <td>None</td>\n",
       "      <td>1</td>\n",
       "      <td>0.879927</td>\n",
       "      <td>NaN</td>\n",
       "    </tr>\n",
       "  </tbody>\n",
       "</table>\n",
       "</div>"
      ],
      "text/plain": [
       "            cv__lowercase cv__max_features  cv__min_df cv__ngram_range  \\\n",
       "best_rec_1           True             None           1          (1, 3)   \n",
       "best_acc_0           True             None           1          (1, 1)   \n",
       "\n",
       "           cv__stop_words  mnb__alpha  accuracy    recall  \n",
       "best_rec_1           None           3       NaN  0.933773  \n",
       "best_acc_0           None           1  0.879927       NaN  "
      ]
     },
     "execution_count": 42,
     "metadata": {},
     "output_type": "execute_result"
    }
   ],
   "source": [
    "params_mnb = {\n",
    "    'cv__lowercase': [True, False],\n",
    "    'cv__stop_words': [None, 'english'],\n",
    "    'cv__max_features': [None],\n",
    "    'cv__ngram_range': [(1,1),(1,2),(1,3)],\n",
    "    'cv__min_df': [1],\n",
    "    'mnb__alpha': [1,2,3]\n",
    "}\n",
    "\n",
    "best_mnbs.search(pipe_mnb, params_mnb, \"best_acc\")\n",
    "best_mnbs.search(pipe_mnb, params_mnb, \"best_rec\",evaluator='recall')\n",
    "best_mnbs.model_df.head()"
   ]
  },
  {
   "cell_type": "markdown",
   "metadata": {},
   "source": [
    "Similarly to the Logistic Regression, ngram_range affects accuracy and recall inversely. However, we have a unique hyperparameter tha affects accuracy and recall inversely: the smoothing error **alpha**. We are in the home stretch of determining our model.  The rest of the process will be a repetive re-running of the cell below until we get a combination of hyperparameters that deliver a satisfying tradeoff of accuracy and recall."
   ]
  },
  {
   "cell_type": "code",
   "execution_count": 46,
   "metadata": {},
   "outputs": [
    {
     "name": "stdout",
     "output_type": "stream",
     "text": [
      "Train recall: 0.96512641673932\n",
      "Test recall: 0.8691099476439791\n",
      "Train accuracy: 0.985663082437276\n",
      "Test accuracy: 0.853494623655914\n"
     ]
    },
    {
     "data": {
      "text/html": [
       "<div>\n",
       "<style scoped>\n",
       "    .dataframe tbody tr th:only-of-type {\n",
       "        vertical-align: middle;\n",
       "    }\n",
       "\n",
       "    .dataframe tbody tr th {\n",
       "        vertical-align: top;\n",
       "    }\n",
       "\n",
       "    .dataframe thead th {\n",
       "        text-align: right;\n",
       "    }\n",
       "</style>\n",
       "<table border=\"1\" class=\"dataframe\">\n",
       "  <thead>\n",
       "    <tr style=\"text-align: right;\">\n",
       "      <th></th>\n",
       "      <th>cv__lowercase</th>\n",
       "      <th>cv__max_features</th>\n",
       "      <th>cv__min_df</th>\n",
       "      <th>cv__ngram_range</th>\n",
       "      <th>cv__stop_words</th>\n",
       "      <th>mnb__alpha</th>\n",
       "      <th>accuracy</th>\n",
       "      <th>recall</th>\n",
       "    </tr>\n",
       "  </thead>\n",
       "  <tbody>\n",
       "    <tr>\n",
       "      <th>best_acc_0</th>\n",
       "      <td>True</td>\n",
       "      <td>None</td>\n",
       "      <td>1</td>\n",
       "      <td>(1, 1)</td>\n",
       "      <td>None</td>\n",
       "      <td>1</td>\n",
       "      <td>0.879927</td>\n",
       "      <td>NaN</td>\n",
       "    </tr>\n",
       "    <tr>\n",
       "      <th>best_rec_accuracy_3</th>\n",
       "      <td>True</td>\n",
       "      <td>None</td>\n",
       "      <td>1</td>\n",
       "      <td>(1, 2)</td>\n",
       "      <td>None</td>\n",
       "      <td>2</td>\n",
       "      <td>0.871416</td>\n",
       "      <td>NaN</td>\n",
       "    </tr>\n",
       "    <tr>\n",
       "      <th>best_rec_accuracy_7</th>\n",
       "      <td>True</td>\n",
       "      <td>None</td>\n",
       "      <td>1</td>\n",
       "      <td>(1, 2)</td>\n",
       "      <td>None</td>\n",
       "      <td>2</td>\n",
       "      <td>0.871416</td>\n",
       "      <td>NaN</td>\n",
       "    </tr>\n",
       "    <tr>\n",
       "      <th>best_rec_accuracy_9</th>\n",
       "      <td>True</td>\n",
       "      <td>None</td>\n",
       "      <td>1</td>\n",
       "      <td>(1, 2)</td>\n",
       "      <td>None</td>\n",
       "      <td>2</td>\n",
       "      <td>0.871416</td>\n",
       "      <td>NaN</td>\n",
       "    </tr>\n",
       "    <tr>\n",
       "      <th>best_rec_1</th>\n",
       "      <td>True</td>\n",
       "      <td>None</td>\n",
       "      <td>1</td>\n",
       "      <td>(1, 3)</td>\n",
       "      <td>None</td>\n",
       "      <td>3</td>\n",
       "      <td>NaN</td>\n",
       "      <td>0.933773</td>\n",
       "    </tr>\n",
       "    <tr>\n",
       "      <th>best_acc_recall_2</th>\n",
       "      <td>True</td>\n",
       "      <td>None</td>\n",
       "      <td>1</td>\n",
       "      <td>(1, 1)</td>\n",
       "      <td>None</td>\n",
       "      <td>1</td>\n",
       "      <td>NaN</td>\n",
       "      <td>0.907602</td>\n",
       "    </tr>\n",
       "    <tr>\n",
       "      <th>best_acc_recall_4</th>\n",
       "      <td>True</td>\n",
       "      <td>None</td>\n",
       "      <td>1</td>\n",
       "      <td>(1, 1)</td>\n",
       "      <td>None</td>\n",
       "      <td>1</td>\n",
       "      <td>NaN</td>\n",
       "      <td>0.907602</td>\n",
       "    </tr>\n",
       "    <tr>\n",
       "      <th>best_rec_accuracy_5</th>\n",
       "      <td>True</td>\n",
       "      <td>None</td>\n",
       "      <td>1</td>\n",
       "      <td>(1, 2)</td>\n",
       "      <td>None</td>\n",
       "      <td>2</td>\n",
       "      <td>NaN</td>\n",
       "      <td>0.924177</td>\n",
       "    </tr>\n",
       "    <tr>\n",
       "      <th>best_acc_recall_6</th>\n",
       "      <td>True</td>\n",
       "      <td>None</td>\n",
       "      <td>1</td>\n",
       "      <td>(1, 1)</td>\n",
       "      <td>None</td>\n",
       "      <td>1</td>\n",
       "      <td>NaN</td>\n",
       "      <td>0.907602</td>\n",
       "    </tr>\n",
       "    <tr>\n",
       "      <th>best_acc_recall_8</th>\n",
       "      <td>True</td>\n",
       "      <td>None</td>\n",
       "      <td>1</td>\n",
       "      <td>(1, 1)</td>\n",
       "      <td>None</td>\n",
       "      <td>1</td>\n",
       "      <td>NaN</td>\n",
       "      <td>0.907602</td>\n",
       "    </tr>\n",
       "  </tbody>\n",
       "</table>\n",
       "</div>"
      ],
      "text/plain": [
       "                     cv__lowercase cv__max_features  cv__min_df  \\\n",
       "best_acc_0                    True             None           1   \n",
       "best_rec_accuracy_3           True             None           1   \n",
       "best_rec_accuracy_7           True             None           1   \n",
       "best_rec_accuracy_9           True             None           1   \n",
       "best_rec_1                    True             None           1   \n",
       "best_acc_recall_2             True             None           1   \n",
       "best_acc_recall_4             True             None           1   \n",
       "best_rec_accuracy_5           True             None           1   \n",
       "best_acc_recall_6             True             None           1   \n",
       "best_acc_recall_8             True             None           1   \n",
       "\n",
       "                    cv__ngram_range cv__stop_words  mnb__alpha  accuracy  \\\n",
       "best_acc_0                   (1, 1)           None           1  0.879927   \n",
       "best_rec_accuracy_3          (1, 2)           None           2  0.871416   \n",
       "best_rec_accuracy_7          (1, 2)           None           2  0.871416   \n",
       "best_rec_accuracy_9          (1, 2)           None           2  0.871416   \n",
       "best_rec_1                   (1, 3)           None           3       NaN   \n",
       "best_acc_recall_2            (1, 1)           None           1       NaN   \n",
       "best_acc_recall_4            (1, 1)           None           1       NaN   \n",
       "best_rec_accuracy_5          (1, 2)           None           2       NaN   \n",
       "best_acc_recall_6            (1, 1)           None           1       NaN   \n",
       "best_acc_recall_8            (1, 1)           None           1       NaN   \n",
       "\n",
       "                       recall  \n",
       "best_acc_0                NaN  \n",
       "best_rec_accuracy_3       NaN  \n",
       "best_rec_accuracy_7       NaN  \n",
       "best_rec_accuracy_9       NaN  \n",
       "best_rec_1           0.933773  \n",
       "best_acc_recall_2    0.907602  \n",
       "best_acc_recall_4    0.907602  \n",
       "best_rec_accuracy_5  0.924177  \n",
       "best_acc_recall_6    0.907602  \n",
       "best_acc_recall_8    0.907602  "
      ]
     },
     "execution_count": 46,
     "metadata": {},
     "output_type": "execute_result"
    }
   ],
   "source": [
    "params_best_acc_mnb = {\n",
    "    'cv__lowercase': [True],\n",
    "    'cv__stop_words': [None],\n",
    "    'cv__max_features': [None],\n",
    "    'cv__ngram_range': [(1,1)],\n",
    "    'cv__min_df': [1],\n",
    "    'mnb__alpha': [1]\n",
    "}\n",
    "\n",
    "params_best_rec_mnb = {\n",
    "    'cv__lowercase': [True],\n",
    "    'cv__stop_words': [None],\n",
    "    'cv__max_features': [None],\n",
    "    'cv__ngram_range': [(1,2)],\n",
    "    'cv__min_df': [1],\n",
    "    'mnb__alpha': [2]\n",
    "}\n",
    "\n",
    "best_mnbs.search(pipe_mnb, params_best_acc_mnb, \"best_acc_recall\", evaluator='recall')\n",
    "best_mnbs.search(pipe_mnb, params_best_rec_mnb, \"best_rec_accuracy\", evaluator='accuracy')\n",
    "best_mnbs.model_df.head(10)"
   ]
  },
  {
   "cell_type": "markdown",
   "metadata": {},
   "source": [
    "Our final model has an accuracy of a 87% and a recall of 92%. The Count Vectorizer uses monograms and bigrams and undergoes tfidf transformation.  The Multinomial Naive Bayes has an alpha value of 2."
   ]
  },
  {
   "cell_type": "code",
   "execution_count": 47,
   "metadata": {},
   "outputs": [
    {
     "name": "stdout",
     "output_type": "stream",
     "text": [
      "Train recall: 0.987794245858762\n",
      "Test recall: 0.8743455497382199\n",
      "Train accuracy: 0.985663082437276\n",
      "Test accuracy: 0.853494623655914\n"
     ]
    },
    {
     "data": {
      "text/html": [
       "<div>\n",
       "<style scoped>\n",
       "    .dataframe tbody tr th:only-of-type {\n",
       "        vertical-align: middle;\n",
       "    }\n",
       "\n",
       "    .dataframe tbody tr th {\n",
       "        vertical-align: top;\n",
       "    }\n",
       "\n",
       "    .dataframe thead th {\n",
       "        text-align: right;\n",
       "    }\n",
       "</style>\n",
       "<table border=\"1\" class=\"dataframe\">\n",
       "  <thead>\n",
       "    <tr style=\"text-align: right;\">\n",
       "      <th></th>\n",
       "      <th>cv__lowercase</th>\n",
       "      <th>cv__max_features</th>\n",
       "      <th>cv__min_df</th>\n",
       "      <th>cv__ngram_range</th>\n",
       "      <th>cv__stop_words</th>\n",
       "      <th>mnb__alpha</th>\n",
       "      <th>recall</th>\n",
       "      <th>accuracy</th>\n",
       "    </tr>\n",
       "  </thead>\n",
       "  <tbody>\n",
       "    <tr>\n",
       "      <th>best_accuracy_1</th>\n",
       "      <td>True</td>\n",
       "      <td>None</td>\n",
       "      <td>1</td>\n",
       "      <td>(1, 2)</td>\n",
       "      <td>None</td>\n",
       "      <td>2</td>\n",
       "      <td>NaN</td>\n",
       "      <td>0.871416</td>\n",
       "    </tr>\n",
       "    <tr>\n",
       "      <th>mnb_recall_0</th>\n",
       "      <td>True</td>\n",
       "      <td>None</td>\n",
       "      <td>1</td>\n",
       "      <td>(1, 2)</td>\n",
       "      <td>None</td>\n",
       "      <td>2</td>\n",
       "      <td>0.924177</td>\n",
       "      <td>NaN</td>\n",
       "    </tr>\n",
       "  </tbody>\n",
       "</table>\n",
       "</div>"
      ],
      "text/plain": [
       "                 cv__lowercase cv__max_features  cv__min_df cv__ngram_range  \\\n",
       "best_accuracy_1           True             None           1          (1, 2)   \n",
       "mnb_recall_0              True             None           1          (1, 2)   \n",
       "\n",
       "                cv__stop_words  mnb__alpha    recall  accuracy  \n",
       "best_accuracy_1           None           2       NaN  0.871416  \n",
       "mnb_recall_0              None           2  0.924177       NaN  "
      ]
     },
     "execution_count": 47,
     "metadata": {},
     "output_type": "execute_result"
    }
   ],
   "source": [
    "final_model_params = {\n",
    "    'cv__lowercase': [True],\n",
    "    'cv__stop_words': [None],\n",
    "    'cv__max_features': [None],\n",
    "    'cv__ngram_range': [(1,2)],\n",
    "    'cv__min_df': [1],\n",
    "    'mnb__alpha': [2]\n",
    "}\n",
    "\n",
    "mnb_final = GridSearchContainer(X, y)\n",
    "\n",
    "mnb_final.search(pipe_mnb, final_model_params, \"mnb_recall\", evaluator='recall')\n",
    "mnb_final.search(pipe_mnb, final_model_params, \"best_accuracy\", evaluator='accuracy')\n",
    "mnb_final.model_df.head()"
   ]
  },
  {
   "cell_type": "code",
   "execution_count": 56,
   "metadata": {},
   "outputs": [],
   "source": [
    "mod = mnb_final.best_models\n",
    "final_mod = mod[1][0]"
   ]
  },
  {
   "cell_type": "markdown",
   "metadata": {},
   "source": [
    "Lastly, let's save the confusion matrix of the final model, so we can observe the false negative count.  48 is a little higher than we might want but that is ok because our model has great accuracy."
   ]
  },
  {
   "cell_type": "code",
   "execution_count": 65,
   "metadata": {},
   "outputs": [
    {
     "data": {
      "image/png": "[encoded data removed]",
      "text/plain": [
       "<Figure size 432x288 with 2 Axes>"
      ]
     },
     "metadata": {
      "needs_background": "light"
     },
     "output_type": "display_data"
    }
   ],
   "source": [
    "plot_confusion_matrix(final_mod, mnb_final.X_test, mnb_final.y_test, cmap='Greens', values_format='d');\n",
    "plt.savefig(\"../images/confusion_matrix.png\")"
   ]
  }
 ],
 "metadata": {
  "kernelspec": {
   "display_name": "Python 3",
   "language": "python",
   "name": "python3"
  },
  "language_info": {
   "codemirror_mode": {
    "name": "ipython",
    "version": 3
   },
   "file_extension": ".py",
   "mimetype": "text/x-python",
   "name": "python",
   "nbconvert_exporter": "python",
   "pygments_lexer": "ipython3",
   "version": "3.7.7"
  }
 },
 "nbformat": 4,
 "nbformat_minor": 4
}
